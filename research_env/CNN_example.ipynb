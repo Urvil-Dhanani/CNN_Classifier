{
 "cells": [
  {
   "cell_type": "code",
   "execution_count": 1,
   "id": "a1f58b45",
   "metadata": {},
   "outputs": [],
   "source": [
    "import tensorflow as tf\n",
    "import numpy as np\n",
    "import os\n",
    "from tqdm import tqdm\n",
    "from zipfile import ZipFile"
   ]
  },
  {
   "cell_type": "code",
   "execution_count": 10,
   "id": "201e441f",
   "metadata": {},
   "outputs": [],
   "source": [
    "from PIL import Image\n",
    "import shutil"
   ]
  },
  {
   "cell_type": "code",
   "execution_count": 19,
   "id": "7695e694",
   "metadata": {},
   "outputs": [
    {
     "name": "stdout",
     "output_type": "stream",
     "text": [
      "Requirement already satisfied: jupyter-tabnine in c:\\users\\admin\\anaconda3\\lib\\site-packages (1.2.3)\n",
      "Requirement already satisfied: nbconvert in c:\\users\\admin\\anaconda3\\lib\\site-packages (from jupyter-tabnine) (6.5.4)\n",
      "Requirement already satisfied: jupyter-core in c:\\users\\admin\\anaconda3\\lib\\site-packages (from jupyter-tabnine) (5.2.0)\n",
      "Requirement already satisfied: notebook>=4.2 in c:\\users\\admin\\anaconda3\\lib\\site-packages (from jupyter-tabnine) (6.5.2)\n",
      "Requirement already satisfied: ipython in c:\\users\\admin\\anaconda3\\lib\\site-packages (from jupyter-tabnine) (8.10.0)\n",
      "Requirement already satisfied: argon2-cffi in c:\\users\\admin\\anaconda3\\lib\\site-packages (from notebook>=4.2->jupyter-tabnine) (21.3.0)\n",
      "Requirement already satisfied: prometheus-client in c:\\users\\admin\\anaconda3\\lib\\site-packages (from notebook>=4.2->jupyter-tabnine) (0.14.1)\n",
      "Requirement already satisfied: ipykernel in c:\\users\\admin\\anaconda3\\lib\\site-packages (from notebook>=4.2->jupyter-tabnine) (6.19.2)\n",
      "Requirement already satisfied: nest-asyncio>=1.5 in c:\\users\\admin\\anaconda3\\lib\\site-packages (from notebook>=4.2->jupyter-tabnine) (1.5.6)\n",
      "Requirement already satisfied: nbclassic>=0.4.7 in c:\\users\\admin\\anaconda3\\lib\\site-packages (from notebook>=4.2->jupyter-tabnine) (0.5.2)\n",
      "Requirement already satisfied: jupyter-client>=5.3.4 in c:\\users\\admin\\anaconda3\\lib\\site-packages (from notebook>=4.2->jupyter-tabnine) (7.3.4)\n",
      "Requirement already satisfied: Send2Trash>=1.8.0 in c:\\users\\admin\\anaconda3\\lib\\site-packages (from notebook>=4.2->jupyter-tabnine) (1.8.0)\n",
      "Requirement already satisfied: jinja2 in c:\\users\\admin\\anaconda3\\lib\\site-packages (from notebook>=4.2->jupyter-tabnine) (3.1.2)\n",
      "Requirement already satisfied: traitlets>=4.2.1 in c:\\users\\admin\\anaconda3\\lib\\site-packages (from notebook>=4.2->jupyter-tabnine) (5.7.1)\n",
      "Requirement already satisfied: ipython-genutils in c:\\users\\admin\\anaconda3\\lib\\site-packages (from notebook>=4.2->jupyter-tabnine) (0.2.0)\n",
      "Requirement already satisfied: tornado>=6.1 in c:\\users\\admin\\anaconda3\\lib\\site-packages (from notebook>=4.2->jupyter-tabnine) (6.1)\n",
      "Requirement already satisfied: nbformat in c:\\users\\admin\\anaconda3\\lib\\site-packages (from notebook>=4.2->jupyter-tabnine) (5.7.0)\n",
      "Requirement already satisfied: terminado>=0.8.3 in c:\\users\\admin\\anaconda3\\lib\\site-packages (from notebook>=4.2->jupyter-tabnine) (0.17.1)\n",
      "Requirement already satisfied: pyzmq>=17 in c:\\users\\admin\\anaconda3\\lib\\site-packages (from notebook>=4.2->jupyter-tabnine) (23.2.0)\n",
      "Requirement already satisfied: platformdirs>=2.5 in c:\\users\\admin\\anaconda3\\lib\\site-packages (from jupyter-core->jupyter-tabnine) (2.5.2)\n",
      "Requirement already satisfied: pywin32>=1.0 in c:\\users\\admin\\anaconda3\\lib\\site-packages (from jupyter-core->jupyter-tabnine) (305.1)\n",
      "Requirement already satisfied: MarkupSafe>=2.0 in c:\\users\\admin\\anaconda3\\lib\\site-packages (from nbconvert->jupyter-tabnine) (2.1.1)\n",
      "Requirement already satisfied: pygments>=2.4.1 in c:\\users\\admin\\anaconda3\\lib\\site-packages (from nbconvert->jupyter-tabnine) (2.17.2)\n",
      "Requirement already satisfied: nbclient>=0.5.0 in c:\\users\\admin\\anaconda3\\lib\\site-packages (from nbconvert->jupyter-tabnine) (0.5.13)\n",
      "Requirement already satisfied: jupyterlab-pygments in c:\\users\\admin\\anaconda3\\lib\\site-packages (from nbconvert->jupyter-tabnine) (0.1.2)\n",
      "Requirement already satisfied: defusedxml in c:\\users\\admin\\anaconda3\\lib\\site-packages (from nbconvert->jupyter-tabnine) (0.7.1)\n",
      "Requirement already satisfied: packaging in c:\\users\\admin\\anaconda3\\lib\\site-packages (from nbconvert->jupyter-tabnine) (22.0)\n",
      "Requirement already satisfied: tinycss2 in c:\\users\\admin\\anaconda3\\lib\\site-packages (from nbconvert->jupyter-tabnine) (1.2.1)\n",
      "Requirement already satisfied: mistune<2,>=0.8.1 in c:\\users\\admin\\anaconda3\\lib\\site-packages (from nbconvert->jupyter-tabnine) (0.8.4)\n",
      "Requirement already satisfied: entrypoints>=0.2.2 in c:\\users\\admin\\anaconda3\\lib\\site-packages (from nbconvert->jupyter-tabnine) (0.4)\n",
      "Requirement already satisfied: beautifulsoup4 in c:\\users\\admin\\anaconda3\\lib\\site-packages (from nbconvert->jupyter-tabnine) (4.11.1)\n",
      "Requirement already satisfied: pandocfilters>=1.4.1 in c:\\users\\admin\\anaconda3\\lib\\site-packages (from nbconvert->jupyter-tabnine) (1.5.0)\n",
      "Requirement already satisfied: bleach in c:\\users\\admin\\anaconda3\\lib\\site-packages (from nbconvert->jupyter-tabnine) (4.1.0)\n",
      "Requirement already satisfied: lxml in c:\\users\\admin\\anaconda3\\lib\\site-packages (from nbconvert->jupyter-tabnine) (4.9.1)\n",
      "Requirement already satisfied: colorama in c:\\users\\admin\\anaconda3\\lib\\site-packages (from ipython->jupyter-tabnine) (0.4.6)\n",
      "Requirement already satisfied: matplotlib-inline in c:\\users\\admin\\anaconda3\\lib\\site-packages (from ipython->jupyter-tabnine) (0.1.6)\n",
      "Requirement already satisfied: prompt-toolkit<3.1.0,>=3.0.30 in c:\\users\\admin\\anaconda3\\lib\\site-packages (from ipython->jupyter-tabnine) (3.0.36)\n",
      "Requirement already satisfied: backcall in c:\\users\\admin\\anaconda3\\lib\\site-packages (from ipython->jupyter-tabnine) (0.2.0)\n",
      "Requirement already satisfied: pickleshare in c:\\users\\admin\\anaconda3\\lib\\site-packages (from ipython->jupyter-tabnine) (0.7.5)\n",
      "Requirement already satisfied: decorator in c:\\users\\admin\\anaconda3\\lib\\site-packages (from ipython->jupyter-tabnine) (5.1.1)\n",
      "Requirement already satisfied: stack-data in c:\\users\\admin\\anaconda3\\lib\\site-packages (from ipython->jupyter-tabnine) (0.2.0)\n",
      "Requirement already satisfied: jedi>=0.16 in c:\\users\\admin\\anaconda3\\lib\\site-packages (from ipython->jupyter-tabnine) (0.18.1)\n",
      "Requirement already satisfied: parso<0.9.0,>=0.8.0 in c:\\users\\admin\\anaconda3\\lib\\site-packages (from jedi>=0.16->ipython->jupyter-tabnine) (0.8.3)\n",
      "Requirement already satisfied: python-dateutil>=2.8.2 in c:\\users\\admin\\anaconda3\\lib\\site-packages (from jupyter-client>=5.3.4->notebook>=4.2->jupyter-tabnine) (2.8.2)\n",
      "Requirement already satisfied: jupyter-server>=1.8 in c:\\users\\admin\\anaconda3\\lib\\site-packages (from nbclassic>=0.4.7->notebook>=4.2->jupyter-tabnine) (1.23.4)\n",
      "Requirement already satisfied: notebook-shim>=0.1.0 in c:\\users\\admin\\anaconda3\\lib\\site-packages (from nbclassic>=0.4.7->notebook>=4.2->jupyter-tabnine) (0.2.2)\n",
      "Requirement already satisfied: jsonschema>=2.6 in c:\\users\\admin\\anaconda3\\lib\\site-packages (from nbformat->notebook>=4.2->jupyter-tabnine) (4.17.3)\n",
      "Requirement already satisfied: fastjsonschema in c:\\users\\admin\\anaconda3\\lib\\site-packages (from nbformat->notebook>=4.2->jupyter-tabnine) (2.16.2)\n",
      "Requirement already satisfied: wcwidth in c:\\users\\admin\\anaconda3\\lib\\site-packages (from prompt-toolkit<3.1.0,>=3.0.30->ipython->jupyter-tabnine) (0.2.5)\n",
      "Requirement already satisfied: pywinpty>=1.1.0 in c:\\users\\admin\\anaconda3\\lib\\site-packages (from terminado>=0.8.3->notebook>=4.2->jupyter-tabnine) (2.0.10)\n",
      "Requirement already satisfied: argon2-cffi-bindings in c:\\users\\admin\\anaconda3\\lib\\site-packages (from argon2-cffi->notebook>=4.2->jupyter-tabnine) (21.2.0)\n",
      "Requirement already satisfied: soupsieve>1.2 in c:\\users\\admin\\anaconda3\\lib\\site-packages (from beautifulsoup4->nbconvert->jupyter-tabnine) (2.3.2.post1)\n",
      "Requirement already satisfied: six>=1.9.0 in c:\\users\\admin\\anaconda3\\lib\\site-packages (from bleach->nbconvert->jupyter-tabnine) (1.16.0)\n",
      "Requirement already satisfied: webencodings in c:\\users\\admin\\anaconda3\\lib\\site-packages (from bleach->nbconvert->jupyter-tabnine) (0.5.1)\n",
      "Requirement already satisfied: psutil in c:\\users\\admin\\anaconda3\\lib\\site-packages (from ipykernel->notebook>=4.2->jupyter-tabnine) (5.9.0)\n",
      "Requirement already satisfied: debugpy>=1.0 in c:\\users\\admin\\anaconda3\\lib\\site-packages (from ipykernel->notebook>=4.2->jupyter-tabnine) (1.5.1)\n",
      "Requirement already satisfied: comm>=0.1.1 in c:\\users\\admin\\anaconda3\\lib\\site-packages (from ipykernel->notebook>=4.2->jupyter-tabnine) (0.1.2)\n",
      "Requirement already satisfied: executing in c:\\users\\admin\\anaconda3\\lib\\site-packages (from stack-data->ipython->jupyter-tabnine) (0.8.3)\n",
      "Requirement already satisfied: pure-eval in c:\\users\\admin\\anaconda3\\lib\\site-packages (from stack-data->ipython->jupyter-tabnine) (0.2.2)\n",
      "Requirement already satisfied: asttokens in c:\\users\\admin\\anaconda3\\lib\\site-packages (from stack-data->ipython->jupyter-tabnine) (2.0.5)\n",
      "Requirement already satisfied: pyrsistent!=0.17.0,!=0.17.1,!=0.17.2,>=0.14.0 in c:\\users\\admin\\anaconda3\\lib\\site-packages (from jsonschema>=2.6->nbformat->notebook>=4.2->jupyter-tabnine) (0.18.0)\n",
      "Requirement already satisfied: attrs>=17.4.0 in c:\\users\\admin\\anaconda3\\lib\\site-packages (from jsonschema>=2.6->nbformat->notebook>=4.2->jupyter-tabnine) (22.1.0)\n",
      "Requirement already satisfied: anyio<4,>=3.1.0 in c:\\users\\admin\\anaconda3\\lib\\site-packages (from jupyter-server>=1.8->nbclassic>=0.4.7->notebook>=4.2->jupyter-tabnine) (3.5.0)\n",
      "Requirement already satisfied: websocket-client in c:\\users\\admin\\anaconda3\\lib\\site-packages (from jupyter-server>=1.8->nbclassic>=0.4.7->notebook>=4.2->jupyter-tabnine) (0.58.0)\n",
      "Requirement already satisfied: cffi>=1.0.1 in c:\\users\\admin\\anaconda3\\lib\\site-packages (from argon2-cffi-bindings->argon2-cffi->notebook>=4.2->jupyter-tabnine) (1.15.1)\n",
      "Requirement already satisfied: idna>=2.8 in c:\\users\\admin\\anaconda3\\lib\\site-packages (from anyio<4,>=3.1.0->jupyter-server>=1.8->nbclassic>=0.4.7->notebook>=4.2->jupyter-tabnine) (3.4)\n",
      "Requirement already satisfied: sniffio>=1.1 in c:\\users\\admin\\anaconda3\\lib\\site-packages (from anyio<4,>=3.1.0->jupyter-server>=1.8->nbclassic>=0.4.7->notebook>=4.2->jupyter-tabnine) (1.2.0)\n",
      "Requirement already satisfied: pycparser in c:\\users\\admin\\anaconda3\\lib\\site-packages (from cffi>=1.0.1->argon2-cffi-bindings->argon2-cffi->notebook>=4.2->jupyter-tabnine) (2.21)\n"
     ]
    },
    {
     "name": "stderr",
     "output_type": "stream",
     "text": [
      "Installing C:\\Users\\Admin\\anaconda3\\lib\\site-packages\\jupyter_tabnine\\static -> jupyter_tabnine\n",
      "Up to date: C:\\ProgramData\\jupyter\\nbextensions\\jupyter_tabnine\\main.css\n",
      "Up to date: C:\\ProgramData\\jupyter\\nbextensions\\jupyter_tabnine\\main.js\n",
      "Up to date: C:\\ProgramData\\jupyter\\nbextensions\\jupyter_tabnine\\README.md\n",
      "Up to date: C:\\ProgramData\\jupyter\\nbextensions\\jupyter_tabnine\\tabnine.yaml\n",
      "- Validating: ok\n",
      "\n",
      "    To initialize this nbextension in the browser every time the notebook (or other app) loads:\n",
      "    \n",
      "          jupyter nbextension enable jupyter_tabnine --py\n",
      "    \n",
      "Enabling notebook extension jupyter_tabnine/main...\n",
      "      - Validating: ok\n",
      "Enabling: jupyter_tabnine\n",
      "- Writing config: C:\\Users\\Admin\\.jupyter\n",
      "    - Validating...\n",
      "      jupyter_tabnine  ok\n"
     ]
    }
   ],
   "source": [
    "!pip3 install jupyter-tabnine\n",
    "!jupyter nbextension install --py jupyter_tabnine\n",
    "!jupyter nbextension enable --py jupyter_tabnine\n",
    "!jupyter serverextension enable --py jupyter_tabnine"
   ]
  },
  {
   "cell_type": "code",
   "execution_count": 2,
   "id": "ffcd1476",
   "metadata": {},
   "outputs": [],
   "source": [
    "data_directory_path = \"Data\"\n",
    "data_zipfile_name = \"archive.zip\"\n",
    "data_zipfile_path = os.path.join(data_directory_path, data_zipfile_name)"
   ]
  },
  {
   "cell_type": "code",
   "execution_count": 7,
   "id": "00d6c91b",
   "metadata": {},
   "outputs": [],
   "source": [
    "# with ZipFile(data_zipfile_path, \"r\") as zip_f:\n",
    "#     zip_f.extractall(\"Data/\")"
   ]
  },
  {
   "cell_type": "code",
   "execution_count": 3,
   "id": "7ac5bab5",
   "metadata": {},
   "outputs": [
    {
     "name": "stdout",
     "output_type": "stream",
     "text": [
      "Data\\training_set\\training_set\n"
     ]
    }
   ],
   "source": [
    "target_data_dirs = [\"cats\", \"dogs\"]\n",
    "parent_directory = os.path.join(data_directory_path, \"training_set\")\n",
    "parent_directory = os.path.join(parent_directory, \"training_set\")\n",
    "print(parent_directory)"
   ]
  },
  {
   "cell_type": "code",
   "execution_count": 7,
   "id": "f59ca7d1",
   "metadata": {},
   "outputs": [],
   "source": [
    "BAD_DATA_DIR = \"Bad_data\"\n",
    "os.makedirs(BAD_DATA_DIR, exist_ok = True)"
   ]
  },
  {
   "cell_type": "code",
   "execution_count": 12,
   "id": "cb1f24b0",
   "metadata": {},
   "outputs": [],
   "source": [
    "# Finding full path to the images and verifying the Images  \n",
    "\n",
    "for dirs in os.listdir(parent_directory):\n",
    "    full_path_data_dirs = os.path.join(parent_directory, dirs)\n",
    "    for img in os.listdir(full_path_data_dirs):\n",
    "        full_path_image = os.path.join(full_path_data_dirs, img)\n",
    "        try:\n",
    "            image = Image.open(full_path_image)\n",
    "            image.verify()\n",
    "#             print(f\"{full_path_image} --> is varified\")\n",
    "            \n",
    "        except Exception as e:\n",
    "#             print(f\"{full_path_image} --> is BAD\")\n",
    "            bad_data_path = os.path.join(BAD_DATA_DIR, img)\n",
    "            shutil.move(full_path_image, bad_data_path)\n",
    "            "
   ]
  },
  {
   "cell_type": "code",
   "execution_count": 14,
   "id": "2b706de0",
   "metadata": {},
   "outputs": [],
   "source": [
    "IMG_SIZE = (224, 224)\n",
    "BATCH_SIZE = 32"
   ]
  },
  {
   "cell_type": "code",
   "execution_count": 23,
   "id": "696b398f",
   "metadata": {},
   "outputs": [
    {
     "name": "stdout",
     "output_type": "stream",
     "text": [
      "Found 8005 files belonging to 2 classes.\n",
      "Using 6404 files for training.\n",
      "Found 8005 files belonging to 2 classes.\n",
      "Using 1601 files for validation.\n"
     ]
    }
   ],
   "source": [
    "#  img_dataset_from_directory will take the parent directory path\n",
    "#  it will split the data set, resize the images \n",
    "\n",
    "\n",
    "train_ds = tf.keras.preprocessing.image_dataset_from_directory(\n",
    "    parent_directory,\n",
    "    validation_split = 0.2,\n",
    "    subset = \"training\",\n",
    "    seed = 13,\n",
    "    image_size = IMG_SIZE,\n",
    "    batch_size = BATCH_SIZE,\n",
    ")\n",
    "\n",
    "valid_ds = tf.keras.preprocessing.image_dataset_from_directory(\n",
    "    parent_directory,\n",
    "    validation_split = 0.2,\n",
    "    subset = \"validation\",\n",
    "    seed = 13,\n",
    "    image_size = IMG_SIZE,\n",
    "    batch_size = BATCH_SIZE,\n",
    ")\n"
   ]
  },
  {
   "cell_type": "code",
   "execution_count": null,
   "id": "e26c6dcd",
   "metadata": {},
   "outputs": [],
   "source": []
  }
 ],
 "metadata": {
  "kernelspec": {
   "display_name": "Python 3 (ipykernel)",
   "language": "python",
   "name": "python3"
  },
  "language_info": {
   "codemirror_mode": {
    "name": "ipython",
    "version": 3
   },
   "file_extension": ".py",
   "mimetype": "text/x-python",
   "name": "python",
   "nbconvert_exporter": "python",
   "pygments_lexer": "ipython3",
   "version": "3.10.9"
  }
 },
 "nbformat": 4,
 "nbformat_minor": 5
}
